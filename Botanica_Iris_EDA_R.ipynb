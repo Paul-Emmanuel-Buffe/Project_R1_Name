{
 "cells": [
  {
   "cell_type": "markdown",
   "id": "fed9e44b",
   "metadata": {},
   "source": [
    "# Botanica Iris : Analyse Exploratoire en R\n",
    "\n",
    "Ce notebook a pour objectif d’explorer le dataset **Iris** à l’aide de **R**, de produire des visualisations, d’identifier des tendances, et de fournir une synthèse statistique claire."
   ]
  },
  {
   "cell_type": "code",
   "execution_count": null,
   "id": "74b11d14-067f-400c-a01a-1073f6fb4160",
   "metadata": {},
   "outputs": [],
   "source": [
    "# Installer les packages manquants si besoin\n",
    "packages <- c(\"GGally\", \"ggplot2\", \"dplyr\", \"tidyr\", \"corrplot\", \"kableExtra\")\n",
    "install_if_missing <- function(p) {\n",
    "  if (!requireNamespace(p, quietly = TRUE)) install.packages(p)\n",
    "}\n",
    "invisible(lapply(packages, install_if_missing))\n"
   ]
  },
  {
   "cell_type": "code",
   "execution_count": null,
   "id": "44fa5aca",
   "metadata": {
    "scrolled": true
   },
   "outputs": [],
   "source": [
    "#  Chargement des packages\n",
    "library(tidyverse)\n",
    "library(ggplot2)\n",
    "library(GGally)\n",
    "library(corrplot)\n",
    "library(kableExtra)"
   ]
  },
  {
   "cell_type": "markdown",
   "id": "bc5d2061",
   "metadata": {},
   "source": [
    "## Étape 1 : Exploration des Données"
   ]
  },
  {
   "cell_type": "code",
   "execution_count": null,
   "id": "07ea55ce",
   "metadata": {},
   "outputs": [],
   "source": [
    "# Chargement du dataset\n",
    "data(\"iris\")\n",
    "head(iris)\n",
    "\n",
    "# Aperçu structurel\n",
    "str(iris)\n",
    "\n",
    "# Aperçu visuel (fonction View seulement dans RStudio)\n",
    "# View(iris)\n",
    "\n",
    "# Noms des colonnes\n",
    "names(iris)\n",
    "\n",
    "# Espèces présentes\n",
    "unique(iris$Species)\n",
    "\n",
    "# Dimensions\n",
    "dim(iris)\n",
    "\n",
    "# Résumé statistique\n",
    "summary(iris)\n",
    "\n",
    "# Valeurs manquantes\n",
    "colSums(is.na(iris))"
   ]
  },
  {
   "cell_type": "markdown",
   "id": "aa4ac728-4e0f-4ebc-bbb9-42f8beed110a",
   "metadata": {},
   "source": [
    "###  Analyse du dataset et interpretation des statistiques descriptives\n",
    "#### analyse du dataset\n",
    " Le jeu de données Iris contient 150 observations réparties équitablement en 3 espèces :\n",
    "- setosa\n",
    "- versicolor\n",
    "- virginica\n",
    " Chaque fleur est décrite par 4 variables numériques :\n",
    " - Longueur et largeur du sépale (`Sepal.Length`, `Sepal.Width`)\n",
    " - Longueur et largeur du pétale (`Petal.Length`, `Petal.Width`)\n",
    "### Analyse du résumé statistique :\n",
    "Chaque variable s'etend entre des valeurs min et max:\n",
    "- Sepal.Length : entre 4.3 et 7.9 cm, moyenne ≈ 5.84 cm\n",
    "- Sepal.Width  : entre 2.0 et 4.4 cm, moyenne ≈ 3.06 cm\n",
    "- Petal.Length : entre 1.0 et 6.9 cm, moyenne ≈ 3.76 cm\n",
    "- Petal.Width  : entre 0.1 et 2.5 cm, moyenne ≈ 1.20 cm\n",
    "Obeservations:\n",
    "- Les pétales présentent des écarts beaucoup plus larges que les sépales,\n",
    "  en particulier sur Petal.Length (écart : 5.9 cm).\n",
    "- Cela indique une **plus grande variabilité** dans les dimensions des pétales,\n",
    "   ce qui pourrait être utile pour distinguer les espèces.\n"
   ]
  },
  {
   "cell_type": "markdown",
   "id": "17c8d041",
   "metadata": {},
   "source": [
    "## Étape 2 : Statistiques Descriptives & Corrélations"
   ]
  },
  {
   "cell_type": "code",
   "execution_count": null,
   "id": "c8af5d32-950e-4a3f-aafd-27704760c1cd",
   "metadata": {
    "scrolled": true
   },
   "outputs": [],
   "source": [
    "## Statistiques descriptives par espèce\n",
    "\n",
    "# Setosa\n",
    "setosa <- iris[iris$Species == \"setosa\", ]\n",
    "summary(setosa)\n",
    "\n",
    "# Versicolor\n",
    "versicolor <- iris[iris$Species == \"versicolor\", ]\n",
    "summary(versicolor)\n",
    "\n",
    "# Virginica\n",
    "virginica <- iris[iris$Species == \"virginica\", ]\n",
    "summary(virginica)"
   ]
  },
  {
   "cell_type": "markdown",
   "id": "9a75db9e-3694-4c7c-bfa5-f32430676755",
   "metadata": {},
   "source": [
    "##  Interprétation des variables par espèce\n",
    "\n",
    " Sepal.Length\n",
    "  - Setosa : entre 4.3 et 5.8 cm, moyenne ≈ 5.01\n",
    "  - Versicolor : entre 4.9 et 7.0 cm, moyenne ≈ 5.94\n",
    "  - Virginica : entre 4.9 et 7.9 cm, moyenne ≈ 6.59\n",
    "Interprétation :\n",
    " La longueur des sépales augmente en moyenne d'une espèce à l'autre.\n",
    " Elle peut être utilisée pour distinguer Virginica des autres,\n",
    " mais Setosa et Versicolor présentent un léger recouvrement.\n",
    "\n",
    " Sepal.Width\n",
    " - Setosa : entre 2.3 et 4.4 cm, moyenne ≈ 3.43\n",
    " - Versicolor : entre 2.0 et 3.4 cm, moyenne ≈ 2.77\n",
    " - Virginica : entre 2.2 et 3.8 cm, moyenne ≈ 2.97\n",
    " Interprétation :\n",
    " Setosa a des sépales plus larges en moyenne que les autres espèces.  \n",
    " Bien qu'il y ait un recouvrement, cette variable peut aider à distinguer Setosa.\n",
    "\n",
    " Petal.Length\n",
    " - Setosa : entre 1.0 et 1.9 cm, moyenne ≈ 1.46\n",
    " - Versicolor : entre 3.0 et 5.1 cm, moyenne ≈ 4.26\n",
    " - Virginica : entre 4.5 et 6.9 cm, moyenne ≈ 5.55\n",
    " Interprétation :\n",
    " Les longueurs des pétales sont **très bien séparées** selon les espèces.\n",
    " Setosa est clairement isolée (aucune valeur au-dessus de 1.9),\n",
    " ce qui rend cette variable extrêmement utile pour la classification.\n",
    "\n",
    " Petal.Width\n",
    " - Setosa : entre 0.1 et 0.6 cm, moyenne ≈ 0.25\n",
    " - Versicolor : entre 1.0 et 1.8 cm, moyenne ≈ 1.33\n",
    " - Virginica : entre 1.4 et 2.5 cm, moyenne ≈ 2.03\n",
    "Interprétation :\n",
    " Aucune valeur de `Petal.Width` de Setosa ne se recoupe avec celles de Versicolor et Virginica.\n",
    " C’est **la variable la plus discriminante** pour séparer Setosa des deux autres espèces.\n",
    "\n",
    " Conclusion générale :  \n",
    "➤ Les deux variables les plus discriminantes sont `Petal.Length` et `Petal.Width`.  \n",
    "➤ Elles permettent une séparation quasi-parfaite des trois espèces.  \n",
    "➤ `Sepal.Length` et `Sepal.Width` sont utiles mais présentent davantage de recouvrement.  \n"
   ]
  },
  {
   "cell_type": "code",
   "execution_count": null,
   "id": "e28cb824",
   "metadata": {},
   "outputs": [],
   "source": [
    "# Matrice de corrélation\n",
    "cor_matrix <- cor(iris[,1:4])\n",
    "corrplot(cor_matrix, method = \"color\", type = \"upper\", addCoef.col = \"black\")"
   ]
  },
  {
   "cell_type": "markdown",
   "id": "cacf2b7d-a4bf-4728-8461-0123f0ddb749",
   "metadata": {},
   "source": [
    "## Interprétation – Corrélation entre variables (Pearson)\n",
    "\n",
    " ➤ Corrélation très forte : \n",
    "   - `Petal.Length` et `Petal.Width` : **r = 0.96**\n",
    "     Cela indique une relation linéaire presque parfaite :\n",
    "     les fleurs ayant de longs pétales ont aussi des pétales larges.\n",
    "\n",
    " ➤ Corrélations fortes :\n",
    "   - `Sepal.Length` et `Petal.Length` : **r = 0.87**\n",
    "   - `Sepal.Length` et `Petal.Width` : **r = 0.82**\n",
    "     Ces relations suggèrent que la taille du sépale est globalement liée à la taille du pétale.\n",
    "     Cela peut être exploité dans des modèles prédictifs.\n",
    "\n",
    "➤ Corrélations faibles ou négatives :\n",
    "   - `Sepal.Width` et les autres variables :\n",
    "   - `Sepal.Width` vs `Sepal.Length` : **r = -0.12**\n",
    "   - `Sepal.Width` vs `Petal.Length` : **r = -0.43**\n",
    "   - `Sepal.Width` vs `Petal.Width`  : **r = -0.37**\n",
    " Cela signifie que les fleurs ayant de larges sépales n’ont pas nécessairement de grands pétales.\n",
    "\n",
    "### Conclusion :\n",
    " Les variables `Petal.Length` et `Petal.Width` sont non seulement fortement corrélées entre elles,\n",
    " mais aussi très utiles pour discriminer les espèces.  \n",
    " `Sepal.Width`, en revanche, est moins informatif.\n"
   ]
  },
  {
   "cell_type": "markdown",
   "id": "204adda4",
   "metadata": {},
   "source": [
    "## Étape 3 : Visualisations"
   ]
  },
  {
   "cell_type": "code",
   "execution_count": null,
   "id": "30060b04",
   "metadata": {},
   "outputs": [],
   "source": [
    "# Scatter plot sepal Length vs Width\n",
    "plot(iris$Sepal.Length, iris$Sepal.Width,\n",
    "     col = iris$Species,\n",
    "     main = \"Sepal Length vs Width\")"
   ]
  },
  {
   "cell_type": "code",
   "execution_count": null,
   "id": "c1dbd6b7",
   "metadata": {},
   "outputs": [],
   "source": [
    "# Scatter plot : Petal.Length vs Petal.Width\n",
    "ggplot(iris, aes(x = Petal.Length, y = Petal.Width, color = Species)) +\n",
    "  geom_point(size = 3, alpha = 0.7) +\n",
    "  theme_minimal() +\n",
    "  labs(title = \"Séparation des espèces par pétales\")"
   ]
  },
  {
   "cell_type": "markdown",
   "id": "fd21958c-8fe5-4991-914c-ddddc78cd84c",
   "metadata": {},
   "source": [
    "### Comparaison des visualisations : sépales vs pétales\n",
    "\n",
    " Graphe 1 : Sepal.Length vs Sepal.Width\n",
    " - Seule l'espèce Setosa (points foncés) forme un groupe identifiable (courts sépales larges).\n",
    " - Versicolor et Virginica se chevauchent fortement.\n",
    "  Conclusion : les dimensions des sépales **ne permettent pas** de séparer clairement les trois espèces.\n",
    "\n",
    " Graphe 2 : Petal.Length vs Petal.Width\n",
    " - Setosa est nettement isolée en bas à gauche du graphique.\n",
    " - Versicolor et Virginica forment deux groupes bien séparés malgré une zone de transition.\n",
    "  Conclusion : les dimensions des pétales permettent une **classification quasi-parfaite**.\n",
    "\n",
    "### conclusion\n",
    "\n",
    " ➤ Les variables liées aux **pétales** (longueur et largeur) sont bien plus discriminantes\n",
    "     que celles des sépales pour différencier les trois espèces de fleurs.\n",
    "\n",
    " ➤ Cette analyse visuelle confirme les résultats de la **corrélation** et des **statistiques descriptives** :\n",
    "     `Petal.Length` et `Petal.Width` sont les meilleurs candidats pour identifier les differentes especes.\n",
    "\n",
    "\n"
   ]
  },
  {
   "cell_type": "code",
   "execution_count": null,
   "id": "2a277a23",
   "metadata": {},
   "outputs": [],
   "source": [
    "# Histogrammes globaux pour chaque variable numérique\n",
    "par(mfrow = c(2, 2))  # Affiche 4 graphiques (2 lignes x 2 colonnes)\n",
    "\n",
    "hist(iris$Petal.Length, breaks = 10, col = \"lightblue\", main = \"Petal.Length\")\n",
    "hist(iris$Sepal.Length, breaks = 10, col = \"lightcoral\", main = \"Sepal.Length\")\n",
    "hist(iris$Sepal.Width,  breaks = 10, col = \"lightgreen\", main = \"Sepal.Width\")\n",
    "hist(iris$Petal.Width,  breaks = 10, col = \"lightgoldenrod\", main = \"Petal.Width\")\n",
    "\n",
    "par(mfrow = c(1, 1))  # Réinitialise l'affichage graphique\n"
   ]
  },
  {
   "cell_type": "code",
   "execution_count": null,
   "id": "80238e71",
   "metadata": {},
   "outputs": [],
   "source": [
    "# Histogrammes empilés par espèce pour chaque variable \n",
    "iris %>%\n",
    "  pivot_longer(cols = -Species, names_to = \"Variable\", values_to = \"Value\") %>%\n",
    "  ggplot(aes(x = Value, fill = Species)) +\n",
    "  geom_histogram(position = \"identity\", alpha = 0.6, bins = 30) +\n",
    "  facet_wrap(~ Variable, scales = \"free\") +\n",
    "  theme_minimal()"
   ]
  },
  {
   "cell_type": "markdown",
   "id": "9fa7c062-f326-467d-8c92-b49e7dafe91f",
   "metadata": {},
   "source": [
    "### Comparaison des histogrammes globaux et empilés\n",
    "\n",
    "#### Histogrammes globaux :\n",
    " ➤ Ils montrent la **répartition générale** de chaque variable pour l'ensemble du jeu de données.  \n",
    " ➤ Petal.Length a une distribution clairement multimodale, suggérant plusieurs groupes.  \n",
    " ➤ Sepal.Length est plus symétrique, mais légèrement étalé.  \n",
    " ➤ Petal.Width a une grande concentration autour de faibles valeurs (≤ 0.5), signe d'une espèce très différente.  \n",
    " ➤ Sepal.Width est plus centré autour de 3.0, sans pic extrême.  \n",
    "\n",
    " Limite : ces graphiques **ne montrent pas les différences entre espèces**, car les données sont toutes mélangées.  \n",
    "\n",
    "\n",
    "\n",
    "#### Histogrammes empilés par espèce:\n",
    " ➤ Ils permettent de visualiser la **répartition des valeurs pour chaque variable, selon l’espèce** :  \n",
    "    - `Setosa` (rose) → très regroupée et souvent isolée  \n",
    "    - `Versicolor` (vert) → distributions modérées  \n",
    "    - `Virginica` (bleu) → valeurs plus étalées vers le haut  \n",
    "\n",
    " ➤ Petal.Length et Petal.Width :  \n",
    "    - Très forte séparation des espèces  \n",
    "    - Aucune superposition entre Setosa et les deux autres → **très discriminantes**  \n",
    "\n",
    " ➤ Sepal.Length :  \n",
    "    - Les distributions de Versicolor et Virginica se chevauchent  \n",
    "    - Setosa est plus concentrée dans les petites longueurs  \n",
    "\n",
    " ➤ Sepal.Width :  \n",
    "    - Moins discriminante, car les 3 espèces présentent des valeurs qui se recoupent  \n",
    "\n",
    "\n",
    "\n",
    "### Conclusion  \n",
    "\n",
    " ➤ Les histogrammes globaux sont utiles pour une **vue d’ensemble** de la distribution,\n",
    "     mais **ne permettent pas de distinguer les espèces**.  \n",
    "\n",
    " ➤ Les histogrammes empilés par espèce révèlent que :  \n",
    "      `Petal.Length` et `Petal.Width` sont **parfaitement adaptées à la classification**.  \n",
    "      `Sepal.Length` et surtout `Sepal.Width` sont **moins discriminantes**.  \n",
    "      \n",
    "Ces observations renforcent les conclusions déjà faites sur la **pertinence des variables des pétales**  \n",
    "\n"
   ]
  },
  {
   "cell_type": "code",
   "execution_count": null,
   "id": "0d6f6aa8",
   "metadata": {},
   "outputs": [],
   "source": [
    "par(mfrow = c(1, 2), mar = c(5, 4, 4, 2))  # marges élargies : bas, gauche, haut, droite\n",
    "\n",
    "boxplot(Sepal.Length ~ Species, data = iris,\n",
    "        main = \"Longueur des sépales selon l'espèce\",\n",
    "        las = 1, cex.axis = 0.9)\n",
    "\n",
    "boxplot(Petal.Length ~ Species, data = iris,\n",
    "        main = \"Longueur des pétales selon l'espèce\",\n",
    "        las = 1, cex.axis = 0.9)\n",
    "\n",
    "par(mfrow = c(1, 1))  # reset\n"
   ]
  },
  {
   "cell_type": "code",
   "execution_count": null,
   "id": "4717d307",
   "metadata": {},
   "outputs": [],
   "source": [
    "# Boxplots\n",
    "iris %>%\n",
    "  pivot_longer(cols = -Species, names_to = \"Variable\", values_to = \"Value\") %>%\n",
    "  ggplot(aes(x = Species, y = Value, fill = Species)) +\n",
    "  geom_boxplot() +\n",
    "  facet_wrap(~ Variable, scales = \"free\") +\n",
    "  theme_minimal()"
   ]
  },
  {
   "cell_type": "markdown",
   "id": "df8cf17d-3658-43da-823a-f524a32a0a79",
   "metadata": {},
   "source": [
    "#### Interprétation des boxplots \n",
    "\n",
    " Boxplots simples  \n",
    "\n",
    " ➤ Sepal.Length :  \n",
    "     - Moyenne croissante : setosa < versicolor < virginica  \n",
    "     - Mais recouvrement important entre versicolor et virginica  \n",
    "     - Quelques valeurs atypiques (outliers) observées  \n",
    "\n",
    " ➤ Petal.Length :  \n",
    "     - Setosa a des longueurs très faibles et très concentrées (~1.4 cm).  \n",
    "     - Virginica : les plus longues (~5.5 à 6.9 cm).  \n",
    "     - Versicolor : au milieu.   \n",
    "     - Très peu de recouvrement  (variable très discriminante  ).    \n",
    "\n",
    "\n",
    " Boxplots groupés pour les 4 variables  \n",
    "\n",
    " ➤ Petal.Width :  \n",
    "     - Séparation parfaite entre les espèces, surtout Setosa vs les autres  \n",
    "     - Virginica domine largement en largeur de pétales  \n",
    "\n",
    " ➤ Sepal.Width :  \n",
    "     - Grande variabilité dans chaque groupe, recouvrement entre espèces  \n",
    "     - Variable **moins discriminante**  \n",
    "\n",
    " ➤ Globalement :  \n",
    "     - `Petal.Length` et `Petal.Width` montrent une séparation nette entre les 3 espèces  \n",
    "     - `Sepal.Length` est modérément discriminant  \n",
    "     - `Sepal.Width` est le moins utile pour différencier les espèces  \n",
    "\n",
    "\n",
    "#### Conclusion  \n",
    "\n",
    " ➤ Les boxplots confirment :  \n",
    "      `Petal.Length` et `Petal.Width` sont des variables **fortement discriminantes**.  \n",
    "      `Sepal.Width` apporte peu d’information discriminante.  \n",
    " ➤ Ces visualisations renforcent l'idée que les dimensions des **pétales** sont  \n",
    "     les plus pertinentes pour une classification.  \n"
   ]
  },
  {
   "cell_type": "code",
   "execution_count": null,
   "id": "781131f7-7d89-495a-92a2-f2ebe5e3c4fc",
   "metadata": {},
   "outputs": [],
   "source": []
  },
  {
   "cell_type": "code",
   "execution_count": null,
   "id": "0d6a1377-91ff-4f81-9f9b-8527653f0213",
   "metadata": {},
   "outputs": [],
   "source": [
    "# Créer une nouvelle variable : ratio Petal.Length / Petal.Width\n",
    "iris$Ratio <- iris$Petal.Length / iris$Petal.Width\n",
    "head(iris)\n",
    "#  distribution du ratio par espèce\n",
    "boxplot(Ratio ~ Species, data = iris,\n",
    "        main = \"Ratio Petal.Length / Petal.Width selon l'espèce\")\n",
    "# statistiques du ratio\n",
    "\n",
    "aggregate(Ratio ~ Species, data = iris, summary)\n"
   ]
  },
  {
   "cell_type": "markdown",
   "id": "00211507-c7b1-4702-9563-562f25117b54",
   "metadata": {},
   "source": [
    "### Interprétation du ratio Petal.Length / Petal.Width par espèce\n",
    "\n",
    " ➤ Setosa :\n",
    "     - Ratio très élevé (souvent entre 6 et 8, jusqu’à 15 pour des cas extrêmes)\n",
    "     - Très faible largeur de pétales combinée à une longueur non négligeable\n",
    "     - Distribution concentrée et bien distincte → indicateur fort\n",
    "\n",
    " ➤ Versicolor :\n",
    "     - Ratio centré autour de 3.2\n",
    "     - Variabilité modérée\n",
    "     - Légère superposition avec Virginica mais distinct de Setosa\n",
    "\n",
    " ➤ Virginica :\n",
    "     - Ratio légèrement inférieur à Versicolor (~2.8 à 4)\n",
    "     - Distribution légèrement plus étalée\n",
    "\n",
    "\n",
    "####  Conclusion\n",
    "\n",
    " Le ratio `Petal.Length / Petal.Width` est un excellent indicateur pour identifier l’espèce :\n",
    "  - Il permet une **séparation très nette entre Setosa** et les deux autres\n",
    "  - Il améliore la lisibilité des différences de proportion pétale long / large\n",
    "  - Ce ratio peut être utilisé comme **variable dérivée (feature engineering)** dans un modèle de classification\n",
    "\n"
   ]
  },
  {
   "cell_type": "markdown",
   "id": "e07d7068",
   "metadata": {},
   "source": [
    "## Étape 4 : Synthèse et Rapport"
   ]
  },
  {
   "cell_type": "markdown",
   "id": "067b9b67-a322-46ea-8cce-6437fe515d35",
   "metadata": {},
   "source": [
    "### Comment identifier les valeurs aberrantes dans le dataset ?\n",
    "Les boxplots réalisés pour chaque variable (Sepal.Length, Sepal.Width, Petal.Length, Petal.Width) permettent de visualiser les valeurs aberrantes :\n",
    "\n",
    "Quelques outliers isolés ont été repérés, notamment :\n",
    "\n",
    "Pour Sepal.Length chez Virginica\n",
    "\n",
    "Pour Petal.Length chez Setosa (valeur extrême ≈ 1.0)\n",
    "\n",
    "Le ratio Petal.Length / Petal.Width a révélé des extrêmes élevés (jusqu'à 15) dans Setosa, confirmés visuellement dans son boxplot.\n",
    "\n",
    " Conclusion : Les boxplots et le calcul de statistiques comme les min/max ou les quantiles permettent d’identifier efficacement les outliers.\n",
    "\n",
    "### Quelles sont les relations entre les variables ?\n",
    " La matrice de corrélation met en évidence des liens forts :\n",
    "\n",
    "Petal.Length ↔ Petal.Width : corrélation très forte (r = 0.96)\n",
    "\n",
    "Sepal.Length est modérément corrélé à Petal.Length et Petal.Width\n",
    "\n",
    "Sepal.Width est faiblement ou négativement corrélée aux autres variables\n",
    "\n",
    " Les scatter plots confirment :\n",
    "\n",
    "Des liens linéaires marqués entre Petal.Length et Petal.Width\n",
    "\n",
    "Une séparation naturelle des espèces dans l’espace des pétales\n",
    "\n",
    "Des recouvrements plus importants pour les sépales\n",
    "\n",
    "#### Conclusion :  \n",
    "Les pétales (longueur et largeur) montrent des relations linéaires fortes et une meilleure capacité de discrimination entre espèces.\n",
    "\n",
    "### Peut-on prédire l’espèce d’une fleur à partir de ses mesures ?\n",
    "Les analyses visuelles (scatter plots, boxplots, histogrammes empilés) montrent une séparation quasi parfaite entre les espèces selon :\n",
    "\n",
    "Petal.Length et Petal.Width (très discriminants)\n",
    "\n",
    "Le ratio Petal.Length / Petal.Width, nouvel indicateur puissant\n",
    "\n",
    "Les variables des sépales (notamment Sepal.Width) sont moins informatives pour différencier versicolor et virginica.\n",
    "\n",
    "L’utilisation conjointe des bonnes variables (et du ratio) pourrait permettre d'entraîner un modèle supervisé performant (classification).\n",
    "\n",
    " #### Conclusion :  \n",
    " Oui, les espèces peuvent être prédites avec précision en utilisant les variables des pétales, en particulier Petal.Length, Petal.Width et leur ratio."
   ]
  },
  {
   "cell_type": "markdown",
   "id": "b539c41f",
   "metadata": {},
   "source": [
    "## Exportation de données et de graphiques"
   ]
  },
  {
   "cell_type": "code",
   "execution_count": null,
   "id": "49da5c51",
   "metadata": {},
   "outputs": [],
   "source": [
    "# Exporter une table CSV\n",
    "write.csv(iris, \"iris_export.csv\", row.names = FALSE)"
   ]
  },
  {
   "cell_type": "code",
   "execution_count": null,
   "id": "17e85d38",
   "metadata": {},
   "outputs": [],
   "source": [
    "# Sauvegarder un graphique en PNG\n",
    "png(\"scatterplot.png\")\n",
    "plot(iris$Sepal.Length, iris$Sepal.Width, col = iris$Species)\n",
    "dev.off()"
   ]
  }
 ],
 "metadata": {
  "kernelspec": {
   "display_name": "R [conda env:botanica_r_env]",
   "language": "R",
   "name": "conda-env-botanica_r_env-r"
  },
  "language_info": {
   "codemirror_mode": "r",
   "file_extension": ".r",
   "mimetype": "text/x-r-source",
   "name": "R",
   "pygments_lexer": "r",
   "version": "4.1.3"
  }
 },
 "nbformat": 4,
 "nbformat_minor": 5
}
