{
 "cells": [
  {
   "cell_type": "markdown",
   "id": "fed9e44b",
   "metadata": {},
   "source": [
    "# Botanica Iris : Analyse Exploratoire en R\n",
    "\n",
    "Ce notebook a pour objectif d’explorer le dataset **Iris** à l’aide de **R**, de produire des visualisations, d’identifier des tendances, et de fournir une synthèse statistique claire."
   ]
  },
  {
   "cell_type": "code",
   "execution_count": 21,
   "id": "74b11d14-067f-400c-a01a-1073f6fb4160",
   "metadata": {},
   "outputs": [],
   "source": [
    "# Installer les packages manquants si besoin\n",
    "packages <- c(\"GGally\", \"ggplot2\", \"dplyr\", \"tidyr\", \"corrplot\", \"kableExtra\",\"ggforce\")\n",
    "install_if_missing <- function(p) {\n",
    "  if (!requireNamespace(p, quietly = TRUE)) install.packages(p)\n",
    "}\n",
    "invisible(lapply(packages, install_if_missing))\n"
   ]
  },
  {
   "cell_type": "code",
   "execution_count": 22,
   "id": "44fa5aca",
   "metadata": {
    "scrolled": true
   },
   "outputs": [],
   "source": [
    "#  Chargement des packages\n",
    "library(tidyverse)\n",
    "library(ggplot2)\n",
    "library(GGally)\n",
    "library(corrplot)\n",
    "library(kableExtra)\n",
    "library(ggforce)"
   ]
  },
  {
   "cell_type": "markdown",
   "id": "bc5d2061",
   "metadata": {},
   "source": [
    "## Étape 1 : Exploration des Données"
   ]
  },
  {
   "cell_type": "code",
   "execution_count": 23,
   "id": "07ea55ce",
   "metadata": {},
   "outputs": [
    {
     "data": {
      "text/html": [
       "<table class=\"dataframe\">\n",
       "<caption>A data.frame: 6 × 5</caption>\n",
       "<thead>\n",
       "\t<tr><th></th><th scope=col>Sepal.Length</th><th scope=col>Sepal.Width</th><th scope=col>Petal.Length</th><th scope=col>Petal.Width</th><th scope=col>Species</th></tr>\n",
       "\t<tr><th></th><th scope=col>&lt;dbl&gt;</th><th scope=col>&lt;dbl&gt;</th><th scope=col>&lt;dbl&gt;</th><th scope=col>&lt;dbl&gt;</th><th scope=col>&lt;fct&gt;</th></tr>\n",
       "</thead>\n",
       "<tbody>\n",
       "\t<tr><th scope=row>1</th><td>5.1</td><td>3.5</td><td>1.4</td><td>0.2</td><td>setosa</td></tr>\n",
       "\t<tr><th scope=row>2</th><td>4.9</td><td>3.0</td><td>1.4</td><td>0.2</td><td>setosa</td></tr>\n",
       "\t<tr><th scope=row>3</th><td>4.7</td><td>3.2</td><td>1.3</td><td>0.2</td><td>setosa</td></tr>\n",
       "\t<tr><th scope=row>4</th><td>4.6</td><td>3.1</td><td>1.5</td><td>0.2</td><td>setosa</td></tr>\n",
       "\t<tr><th scope=row>5</th><td>5.0</td><td>3.6</td><td>1.4</td><td>0.2</td><td>setosa</td></tr>\n",
       "\t<tr><th scope=row>6</th><td>5.4</td><td>3.9</td><td>1.7</td><td>0.4</td><td>setosa</td></tr>\n",
       "</tbody>\n",
       "</table>\n"
      ],
      "text/latex": [
       "A data.frame: 6 × 5\n",
       "\\begin{tabular}{r|lllll}\n",
       "  & Sepal.Length & Sepal.Width & Petal.Length & Petal.Width & Species\\\\\n",
       "  & <dbl> & <dbl> & <dbl> & <dbl> & <fct>\\\\\n",
       "\\hline\n",
       "\t1 & 5.1 & 3.5 & 1.4 & 0.2 & setosa\\\\\n",
       "\t2 & 4.9 & 3.0 & 1.4 & 0.2 & setosa\\\\\n",
       "\t3 & 4.7 & 3.2 & 1.3 & 0.2 & setosa\\\\\n",
       "\t4 & 4.6 & 3.1 & 1.5 & 0.2 & setosa\\\\\n",
       "\t5 & 5.0 & 3.6 & 1.4 & 0.2 & setosa\\\\\n",
       "\t6 & 5.4 & 3.9 & 1.7 & 0.4 & setosa\\\\\n",
       "\\end{tabular}\n"
      ],
      "text/markdown": [
       "\n",
       "A data.frame: 6 × 5\n",
       "\n",
       "| <!--/--> | Sepal.Length &lt;dbl&gt; | Sepal.Width &lt;dbl&gt; | Petal.Length &lt;dbl&gt; | Petal.Width &lt;dbl&gt; | Species &lt;fct&gt; |\n",
       "|---|---|---|---|---|---|\n",
       "| 1 | 5.1 | 3.5 | 1.4 | 0.2 | setosa |\n",
       "| 2 | 4.9 | 3.0 | 1.4 | 0.2 | setosa |\n",
       "| 3 | 4.7 | 3.2 | 1.3 | 0.2 | setosa |\n",
       "| 4 | 4.6 | 3.1 | 1.5 | 0.2 | setosa |\n",
       "| 5 | 5.0 | 3.6 | 1.4 | 0.2 | setosa |\n",
       "| 6 | 5.4 | 3.9 | 1.7 | 0.4 | setosa |\n",
       "\n"
      ],
      "text/plain": [
       "  Sepal.Length Sepal.Width Petal.Length Petal.Width Species\n",
       "1 5.1          3.5         1.4          0.2         setosa \n",
       "2 4.9          3.0         1.4          0.2         setosa \n",
       "3 4.7          3.2         1.3          0.2         setosa \n",
       "4 4.6          3.1         1.5          0.2         setosa \n",
       "5 5.0          3.6         1.4          0.2         setosa \n",
       "6 5.4          3.9         1.7          0.4         setosa "
      ]
     },
     "metadata": {},
     "output_type": "display_data"
    },
    {
     "name": "stdout",
     "output_type": "stream",
     "text": [
      "'data.frame':\t150 obs. of  5 variables:\n",
      " $ Sepal.Length: num  5.1 4.9 4.7 4.6 5 5.4 4.6 5 4.4 4.9 ...\n",
      " $ Sepal.Width : num  3.5 3 3.2 3.1 3.6 3.9 3.4 3.4 2.9 3.1 ...\n",
      " $ Petal.Length: num  1.4 1.4 1.3 1.5 1.4 1.7 1.4 1.5 1.4 1.5 ...\n",
      " $ Petal.Width : num  0.2 0.2 0.2 0.2 0.2 0.4 0.3 0.2 0.2 0.1 ...\n",
      " $ Species     : Factor w/ 3 levels \"setosa\",\"versicolor\",..: 1 1 1 1 1 1 1 1 1 1 ...\n"
     ]
    },
    {
     "data": {
      "text/html": [
       "<style>\n",
       ".list-inline {list-style: none; margin:0; padding: 0}\n",
       ".list-inline>li {display: inline-block}\n",
       ".list-inline>li:not(:last-child)::after {content: \"\\00b7\"; padding: 0 .5ex}\n",
       "</style>\n",
       "<ol class=list-inline><li>'Sepal.Length'</li><li>'Sepal.Width'</li><li>'Petal.Length'</li><li>'Petal.Width'</li><li>'Species'</li></ol>\n"
      ],
      "text/latex": [
       "\\begin{enumerate*}\n",
       "\\item 'Sepal.Length'\n",
       "\\item 'Sepal.Width'\n",
       "\\item 'Petal.Length'\n",
       "\\item 'Petal.Width'\n",
       "\\item 'Species'\n",
       "\\end{enumerate*}\n"
      ],
      "text/markdown": [
       "1. 'Sepal.Length'\n",
       "2. 'Sepal.Width'\n",
       "3. 'Petal.Length'\n",
       "4. 'Petal.Width'\n",
       "5. 'Species'\n",
       "\n",
       "\n"
      ],
      "text/plain": [
       "[1] \"Sepal.Length\" \"Sepal.Width\"  \"Petal.Length\" \"Petal.Width\"  \"Species\"     "
      ]
     },
     "metadata": {},
     "output_type": "display_data"
    },
    {
     "data": {
      "text/html": [
       "<style>\n",
       ".list-inline {list-style: none; margin:0; padding: 0}\n",
       ".list-inline>li {display: inline-block}\n",
       ".list-inline>li:not(:last-child)::after {content: \"\\00b7\"; padding: 0 .5ex}\n",
       "</style>\n",
       "<ol class=list-inline><li>setosa</li><li>versicolor</li><li>virginica</li></ol>\n",
       "\n",
       "<details>\n",
       "\t<summary style=display:list-item;cursor:pointer>\n",
       "\t\t<strong>Levels</strong>:\n",
       "\t</summary>\n",
       "\t<style>\n",
       "\t.list-inline {list-style: none; margin:0; padding: 0}\n",
       "\t.list-inline>li {display: inline-block}\n",
       "\t.list-inline>li:not(:last-child)::after {content: \"\\00b7\"; padding: 0 .5ex}\n",
       "\t</style>\n",
       "\t<ol class=list-inline><li>'setosa'</li><li>'versicolor'</li><li>'virginica'</li></ol>\n",
       "</details>"
      ],
      "text/latex": [
       "\\begin{enumerate*}\n",
       "\\item setosa\n",
       "\\item versicolor\n",
       "\\item virginica\n",
       "\\end{enumerate*}\n",
       "\n",
       "\\emph{Levels}: \\begin{enumerate*}\n",
       "\\item 'setosa'\n",
       "\\item 'versicolor'\n",
       "\\item 'virginica'\n",
       "\\end{enumerate*}\n"
      ],
      "text/markdown": [
       "1. setosa\n",
       "2. versicolor\n",
       "3. virginica\n",
       "\n",
       "\n",
       "\n",
       "**Levels**: 1. 'setosa'\n",
       "2. 'versicolor'\n",
       "3. 'virginica'\n",
       "\n",
       "\n"
      ],
      "text/plain": [
       "[1] setosa     versicolor virginica \n",
       "Levels: setosa versicolor virginica"
      ]
     },
     "metadata": {},
     "output_type": "display_data"
    },
    {
     "data": {
      "text/html": [
       "<style>\n",
       ".list-inline {list-style: none; margin:0; padding: 0}\n",
       ".list-inline>li {display: inline-block}\n",
       ".list-inline>li:not(:last-child)::after {content: \"\\00b7\"; padding: 0 .5ex}\n",
       "</style>\n",
       "<ol class=list-inline><li>150</li><li>5</li></ol>\n"
      ],
      "text/latex": [
       "\\begin{enumerate*}\n",
       "\\item 150\n",
       "\\item 5\n",
       "\\end{enumerate*}\n"
      ],
      "text/markdown": [
       "1. 150\n",
       "2. 5\n",
       "\n",
       "\n"
      ],
      "text/plain": [
       "[1] 150   5"
      ]
     },
     "metadata": {},
     "output_type": "display_data"
    },
    {
     "data": {
      "text/plain": [
       "  Sepal.Length    Sepal.Width     Petal.Length    Petal.Width   \n",
       " Min.   :4.300   Min.   :2.000   Min.   :1.000   Min.   :0.100  \n",
       " 1st Qu.:5.100   1st Qu.:2.800   1st Qu.:1.600   1st Qu.:0.300  \n",
       " Median :5.800   Median :3.000   Median :4.350   Median :1.300  \n",
       " Mean   :5.843   Mean   :3.057   Mean   :3.758   Mean   :1.199  \n",
       " 3rd Qu.:6.400   3rd Qu.:3.300   3rd Qu.:5.100   3rd Qu.:1.800  \n",
       " Max.   :7.900   Max.   :4.400   Max.   :6.900   Max.   :2.500  \n",
       "       Species  \n",
       " setosa    :50  \n",
       " versicolor:50  \n",
       " virginica :50  \n",
       "                \n",
       "                \n",
       "                "
      ]
     },
     "metadata": {},
     "output_type": "display_data"
    },
    {
     "data": {
      "text/html": [
       "<style>\n",
       ".dl-inline {width: auto; margin:0; padding: 0}\n",
       ".dl-inline>dt, .dl-inline>dd {float: none; width: auto; display: inline-block}\n",
       ".dl-inline>dt::after {content: \":\\0020\"; padding-right: .5ex}\n",
       ".dl-inline>dt:not(:first-of-type) {padding-left: .5ex}\n",
       "</style><dl class=dl-inline><dt>Sepal.Length</dt><dd>0</dd><dt>Sepal.Width</dt><dd>0</dd><dt>Petal.Length</dt><dd>0</dd><dt>Petal.Width</dt><dd>0</dd><dt>Species</dt><dd>0</dd></dl>\n"
      ],
      "text/latex": [
       "\\begin{description*}\n",
       "\\item[Sepal.Length] 0\n",
       "\\item[Sepal.Width] 0\n",
       "\\item[Petal.Length] 0\n",
       "\\item[Petal.Width] 0\n",
       "\\item[Species] 0\n",
       "\\end{description*}\n"
      ],
      "text/markdown": [
       "Sepal.Length\n",
       ":   0Sepal.Width\n",
       ":   0Petal.Length\n",
       ":   0Petal.Width\n",
       ":   0Species\n",
       ":   0\n",
       "\n"
      ],
      "text/plain": [
       "Sepal.Length  Sepal.Width Petal.Length  Petal.Width      Species \n",
       "           0            0            0            0            0 "
      ]
     },
     "metadata": {},
     "output_type": "display_data"
    }
   ],
   "source": [
    "# Chargement du dataset\n",
    "data(\"iris\")\n",
    "head(iris)\n",
    "\n",
    "# Aperçu structurel\n",
    "str(iris)\n",
    "\n",
    "# Aperçu visuel (fonction View seulement dans RStudio)\n",
    "# View(iris)\n",
    "\n",
    "# Noms des colonnes\n",
    "names(iris)\n",
    "\n",
    "# Espèces présentes\n",
    "unique(iris$Species)\n",
    "\n",
    "# Dimensions\n",
    "dim(iris)\n",
    "\n",
    "# Résumé statistique\n",
    "summary(iris)\n",
    "\n",
    "# Valeurs manquantes\n",
    "colSums(is.na(iris))"
   ]
  },
  {
   "cell_type": "markdown",
   "id": "aa4ac728-4e0f-4ebc-bbb9-42f8beed110a",
   "metadata": {},
   "source": [
    "###  Analyse du dataset et interpretation des statistiques descriptives\n",
    "#### analyse du dataset\n",
    " Le jeu de données Iris contient 150 observations réparties équitablement en 3 espèces :\n",
    "- setosa\n",
    "- versicolor\n",
    "- virginica\n",
    " Chaque fleur est décrite par 4 variables numériques :\n",
    " - Longueur et largeur du sépale (`Sepal.Length`, `Sepal.Width`)\n",
    " - Longueur et largeur du pétale (`Petal.Length`, `Petal.Width`)\n",
    "### Analyse du résumé statistique :\n",
    "Chaque variable s'etend entre des valeurs min et max:\n",
    "- Sepal.Length : entre 4.3 et 7.9 cm, moyenne ≈ 5.84 cm\n",
    "- Sepal.Width  : entre 2.0 et 4.4 cm, moyenne ≈ 3.06 cm\n",
    "- Petal.Length : entre 1.0 et 6.9 cm, moyenne ≈ 3.76 cm\n",
    "- Petal.Width  : entre 0.1 et 2.5 cm, moyenne ≈ 1.20 cm\n",
    "Obeservations:\n",
    "- Les pétales présentent des écarts beaucoup plus larges que les sépales,\n",
    "  en particulier sur Petal.Length (écart : 5.9 cm).\n",
    "- Cela indique une **plus grande variabilité** dans les dimensions des pétales,\n",
    "   ce qui pourrait être utile pour distinguer les espèces.\n"
   ]
  },
  {
   "cell_type": "markdown",
   "id": "17c8d041",
   "metadata": {},
   "source": [
    "## Étape 2 : Statistiques Descriptives & Corrélations"
   ]
  },
  {
   "cell_type": "code",
   "execution_count": 24,
   "id": "c8af5d32-950e-4a3f-aafd-27704760c1cd",
   "metadata": {
    "scrolled": true
   },
   "outputs": [
    {
     "data": {
      "text/plain": [
       "  Sepal.Length    Sepal.Width     Petal.Length    Petal.Width   \n",
       " Min.   :4.300   Min.   :2.300   Min.   :1.000   Min.   :0.100  \n",
       " 1st Qu.:4.800   1st Qu.:3.200   1st Qu.:1.400   1st Qu.:0.200  \n",
       " Median :5.000   Median :3.400   Median :1.500   Median :0.200  \n",
       " Mean   :5.006   Mean   :3.428   Mean   :1.462   Mean   :0.246  \n",
       " 3rd Qu.:5.200   3rd Qu.:3.675   3rd Qu.:1.575   3rd Qu.:0.300  \n",
       " Max.   :5.800   Max.   :4.400   Max.   :1.900   Max.   :0.600  \n",
       "       Species  \n",
       " setosa    :50  \n",
       " versicolor: 0  \n",
       " virginica : 0  \n",
       "                \n",
       "                \n",
       "                "
      ]
     },
     "metadata": {},
     "output_type": "display_data"
    },
    {
     "data": {
      "text/plain": [
       "  Sepal.Length    Sepal.Width     Petal.Length   Petal.Width          Species  \n",
       " Min.   :4.900   Min.   :2.000   Min.   :3.00   Min.   :1.000   setosa    : 0  \n",
       " 1st Qu.:5.600   1st Qu.:2.525   1st Qu.:4.00   1st Qu.:1.200   versicolor:50  \n",
       " Median :5.900   Median :2.800   Median :4.35   Median :1.300   virginica : 0  \n",
       " Mean   :5.936   Mean   :2.770   Mean   :4.26   Mean   :1.326                  \n",
       " 3rd Qu.:6.300   3rd Qu.:3.000   3rd Qu.:4.60   3rd Qu.:1.500                  \n",
       " Max.   :7.000   Max.   :3.400   Max.   :5.10   Max.   :1.800                  "
      ]
     },
     "metadata": {},
     "output_type": "display_data"
    },
    {
     "data": {
      "text/plain": [
       "  Sepal.Length    Sepal.Width     Petal.Length    Petal.Width   \n",
       " Min.   :4.900   Min.   :2.200   Min.   :4.500   Min.   :1.400  \n",
       " 1st Qu.:6.225   1st Qu.:2.800   1st Qu.:5.100   1st Qu.:1.800  \n",
       " Median :6.500   Median :3.000   Median :5.550   Median :2.000  \n",
       " Mean   :6.588   Mean   :2.974   Mean   :5.552   Mean   :2.026  \n",
       " 3rd Qu.:6.900   3rd Qu.:3.175   3rd Qu.:5.875   3rd Qu.:2.300  \n",
       " Max.   :7.900   Max.   :3.800   Max.   :6.900   Max.   :2.500  \n",
       "       Species  \n",
       " setosa    : 0  \n",
       " versicolor: 0  \n",
       " virginica :50  \n",
       "                \n",
       "                \n",
       "                "
      ]
     },
     "metadata": {},
     "output_type": "display_data"
    }
   ],
   "source": [
    "## Statistiques descriptives par espèce\n",
    "\n",
    "# Setosa\n",
    "setosa <- iris[iris$Species == \"setosa\", ]\n",
    "summary(setosa)\n",
    "\n",
    "# Versicolor\n",
    "versicolor <- iris[iris$Species == \"versicolor\", ]\n",
    "summary(versicolor)\n",
    "\n",
    "# Virginica\n",
    "virginica <- iris[iris$Species == \"virginica\", ]\n",
    "summary(virginica)"
   ]
  },
  {
   "cell_type": "code",
   "execution_count": 25,
   "id": "e888c74a-b4f5-4fb6-ae28-14e7e826d8db",
   "metadata": {},
   "outputs": [
    {
     "data": {
      "image/png": "[encoded data removed]",
      "text/plain": [
       "plot without title"
      ]
     },
     "metadata": {
      "image/png": {
       "height": 420,
       "width": 420
      }
     },
     "output_type": "display_data"
    }
   ],
   "source": [
    "# Visualistion des Statistiques descriptives par espèce\n",
    "# Calcul des statistiques pour les variables souhaitées\n",
    "stats <- iris %>%\n",
    "  group_by(Species) %>%\n",
    "  summarise(across(\n",
    "    c(Petal.Length, Petal.Width, Sepal.Length, Sepal.Width),\n",
    "    list(\n",
    "      Min = ~min(.),\n",
    "      Q1 = ~quantile(., 0.25),\n",
    "      Médiane = ~median(.),\n",
    "      Q3 = ~quantile(., 0.75),\n",
    "      Max = ~max(.),\n",
    "      Moyenne = ~mean(.)\n",
    "    ),\n",
    "    .names = \"{.col}_{.fn}\"\n",
    "  )) %>%\n",
    "  pivot_longer(-Species, names_to = \"stat\", values_to = \"value\") %>%\n",
    "  separate(stat, into = c(\"Variable\", \"Statistique\"), sep = \"_\") %>%\n",
    "  mutate(Statistique = factor(Statistique,\n",
    "                              levels = c(\"Min\", \"Q1\", \"Médiane\", \"Q3\", \"Max\", \"Moyenne\")))\n",
    "\n",
    "# Visualisation en barres\n",
    "ggplot(stats, aes(x = Statistique, y = value, fill = Species)) +\n",
    "  geom_col(position = position_dodge(width = 0.8), width = 0.7, alpha = 0.8) +\n",
    "  facet_wrap(~Variable, scales = \"free_y\", ncol = 2) +\n",
    "  scale_fill_manual(values = c(\"setosa\" = \"#1b9e77\",\n",
    "                               \"versicolor\" = \"#d95f02\",\n",
    "                               \"virginica\" = \"#7570b3\")) +\n",
    "  labs(\n",
    "    title = \"Statistiques descriptives par espèce\",\n",
    "    subtitle = \"Incluant les quartiles\",\n",
    "    x = \"Mesures statistiques\",\n",
    "    y = \"Valeur (cm)\",\n",
    "    fill = \"Espèce\"\n",
    "  ) +\n",
    "  theme_minimal(base_size = 12) +\n",
    "  theme(\n",
    "    axis.text.x = element_text(angle = 45, hjust = 1),\n",
    "    legend.position = \"bottom\",\n",
    "    panel.grid.major.x = element_blank(),\n",
    "    strip.text = element_text(face = \"bold\")\n",
    "  ) +\n",
    "  geom_text(\n",
    "    aes(label = round(value, 2)),\n",
    "    position = position_dodge(width = 0.8),\n",
    "    vjust = -0.3,\n",
    "    size = 3,\n",
    "    check_overlap = TRUE\n",
    "  )\n",
    "\n"
   ]
  },
  {
   "cell_type": "markdown",
   "id": "9a75db9e-3694-4c7c-bfa5-f32430676755",
   "metadata": {},
   "source": [
    "##  Interprétation des variables par espèce\n",
    "\n",
    " Sepal.Length\n",
    "  - Setosa : entre 4.3 et 5.8 cm, moyenne ≈ 5.01\n",
    "  - Versicolor : entre 4.9 et 7.0 cm, moyenne ≈ 5.94\n",
    "  - Virginica : entre 4.9 et 7.9 cm, moyenne ≈ 6.59\n",
    "Interprétation :\n",
    " La longueur des sépales augmente en moyenne d'une espèce à l'autre.\n",
    " Elle peut être utilisée pour distinguer Virginica des autres,\n",
    " mais Setosa et Versicolor présentent un léger recouvrement.\n",
    "\n",
    " Sepal.Width\n",
    " - Setosa : entre 2.3 et 4.4 cm, moyenne ≈ 3.43\n",
    " - Versicolor : entre 2.0 et 3.4 cm, moyenne ≈ 2.77\n",
    " - Virginica : entre 2.2 et 3.8 cm, moyenne ≈ 2.97\n",
    " Interprétation :\n",
    " Setosa a des sépales plus larges en moyenne que les autres espèces.  \n",
    " Bien qu'il y ait un recouvrement, cette variable peut aider à distinguer Setosa.\n",
    "\n",
    " Petal.Length\n",
    " - Setosa : entre 1.0 et 1.9 cm, moyenne ≈ 1.46\n",
    " - Versicolor : entre 3.0 et 5.1 cm, moyenne ≈ 4.26\n",
    " - Virginica : entre 4.5 et 6.9 cm, moyenne ≈ 5.55\n",
    " Interprétation :\n",
    " Les longueurs des pétales sont **très bien séparées** selon les espèces.\n",
    " Setosa est clairement isolée (aucune valeur au-dessus de 1.9),\n",
    " ce qui rend cette variable extrêmement utile pour la classification.\n",
    "\n",
    " Petal.Width\n",
    " - Setosa : entre 0.1 et 0.6 cm, moyenne ≈ 0.25\n",
    " - Versicolor : entre 1.0 et 1.8 cm, moyenne ≈ 1.33\n",
    " - Virginica : entre 1.4 et 2.5 cm, moyenne ≈ 2.03\n",
    "Interprétation :\n",
    " Aucune valeur de `Petal.Width` de Setosa ne se recoupe avec celles de Versicolor et Virginica.\n",
    " C’est **la variable la plus discriminante** pour séparer Setosa des deux autres espèces.\n",
    "\n",
    " Conclusion générale :  \n",
    "➤ Les deux variables les plus discriminantes sont `Petal.Length` et `Petal.Width`.  \n",
    "➤ Elles permettent une séparation quasi-parfaite des trois espèces.  \n",
    "➤ `Sepal.Length` et `Sepal.Width` sont utiles mais présentent davantage de recouvrement.  \n"
   ]
  },
  {
   "cell_type": "code",
   "execution_count": 26,
   "id": "e28cb824",
   "metadata": {},
   "outputs": [
    {
     "data": {
      "image/png": "[encoded data removed]",
      "text/plain": [
       "Plot with title \"\""
      ]
     },
     "metadata": {
      "image/png": {
       "height": 420,
       "width": 420
      }
     },
     "output_type": "display_data"
    }
   ],
   "source": [
    "# Matrice de corrélation\n",
    "cor_matrix <- cor(iris[,1:4])\n",
    "corrplot(cor_matrix, method = \"color\", type = \"lower\", addCoef.col = \"black\")"
   ]
  },
  {
   "cell_type": "markdown",
   "id": "cacf2b7d-a4bf-4728-8461-0123f0ddb749",
   "metadata": {},
   "source": [
    "## Interprétation Corrélation entre variables (Pearson)\n",
    "\n",
    " ➤ Corrélation très forte : \n",
    "   - `Petal.Length` et `Petal.Width` : **r = 0.96**\n",
    "     Cela indique une relation linéaire presque parfaite :\n",
    "     les fleurs ayant de longs pétales ont aussi des pétales larges.\n",
    "\n",
    " ➤ Corrélations fortes :\n",
    "   - `Sepal.Length` et `Petal.Length` : **r = 0.87**\n",
    "   - `Sepal.Length` et `Petal.Width` : **r = 0.82**\n",
    "     Ces relations suggèrent que la taille du sépale est globalement liée à la taille du pétale.\n",
    "     Cela peut être exploité dans des modèles prédictifs.\n",
    "\n",
    "➤ Corrélations faibles ou négatives :\n",
    "   - `Sepal.Width` et les autres variables :\n",
    "   - `Sepal.Width` vs `Sepal.Length` : **r = -0.12**\n",
    "   - `Sepal.Width` vs `Petal.Length` : **r = -0.43**\n",
    "   - `Sepal.Width` vs `Petal.Width`  : **r = -0.37**\n",
    " Cela signifie que les fleurs ayant de larges sépales n’ont pas nécessairement de grands pétales.\n",
    "\n",
    "### Conclusion :\n",
    " Les variables `Petal.Length` et `Petal.Width` sont non seulement fortement corrélées entre elles,\n",
    " mais aussi très utiles pour discriminer les espèces.  \n",
    " `Sepal.Width`, en revanche, est moins informatif.\n"
   ]
  },
  {
   "cell_type": "markdown",
   "id": "204adda4",
   "metadata": {},
   "source": [
    "## Étape 3 : Visualisations"
   ]
  },
  {
   "cell_type": "code",
   "execution_count": 27,
   "id": "30060b04",
   "metadata": {},
   "outputs": [
    {
     "data": {
      "image/png": "[encoded data removed]",
      "text/plain": [
       "Plot with title \"Sepal Length vs Width\""
      ]
     },
     "metadata": {
      "image/png": {
       "height": 420,
       "width": 420
      }
     },
     "output_type": "display_data"
    }
   ],
   "source": [
    "# Scatter plot sepal Length vs Width\n",
    "plot(iris$Sepal.Length, iris$Sepal.Width,\n",
    "     col = iris$Species,\n",
    "     main = \"Sepal Length vs Width\")"
   ]
  },
  {
   "cell_type": "code",
   "execution_count": 28,
   "id": "c1dbd6b7",
   "metadata": {
    "scrolled": true
   },
   "outputs": [
    {
     "data": {
      "image/png": "[encoded data removed]",
      "text/plain": [
       "plot without title"
      ]
     },
     "metadata": {
      "image/png": {
       "height": 420,
       "width": 420
      }
     },
     "output_type": "display_data"
    }
   ],
   "source": [
    "# Scatter plot : Petal.Length vs Petal.Width\n",
    "ggplot(iris, aes(x = Petal.Length, y = Petal.Width, color = Species)) +\n",
    "  geom_point(size = 3, alpha = 0.7) +\n",
    "  theme_minimal() +\n",
    "  labs(title = \"Séparation des espèces par pétales\")"
   ]
  },
  {
   "cell_type": "markdown",
   "id": "fd21958c-8fe5-4991-914c-ddddc78cd84c",
   "metadata": {},
   "source": [
    "### Comparaison des visualisations : sépales vs pétales\n",
    "\n",
    " Graphe 1 : Sepal.Length vs Sepal.Width\n",
    " - Seule l'espèce Setosa (points foncés) forme un groupe identifiable (courts sépales larges).\n",
    " - Versicolor et Virginica se chevauchent fortement.\n",
    "  Conclusion : les dimensions des sépales **ne permettent pas** de séparer clairement les trois espèces.\n",
    "\n",
    " Graphe 2 : Petal.Length vs Petal.Width\n",
    " - Setosa est nettement isolée en bas à gauche du graphique.\n",
    " - Versicolor et Virginica forment deux groupes bien séparés malgré une zone de transition.\n",
    "  Conclusion : les dimensions des pétales permettent une **classification quasi-parfaite**.\n",
    "\n",
    "### conclusion\n",
    "\n",
    " ➤ Les variables liées aux **pétales** (longueur et largeur) sont bien plus discriminantes\n",
    "     que celles des sépales pour différencier les trois espèces de fleurs.\n",
    "\n",
    " ➤ Cette analyse visuelle confirme les résultats de la **corrélation** et des **statistiques descriptives** :\n",
    "     `Petal.Length` et `Petal.Width` sont les meilleurs candidats pour identifier les differentes especes.\n",
    "\n",
    "\n"
   ]
  },
  {
   "cell_type": "code",
   "execution_count": 29,
   "id": "2a277a23",
   "metadata": {},
   "outputs": [
    {
     "data": {
      "image/png": "[encoded data removed]",
      "text/plain": [
       "Plot with title \"Petal.Width\""
      ]
     },
     "metadata": {
      "image/png": {
       "height": 420,
       "width": 420
      }
     },
     "output_type": "display_data"
    }
   ],
   "source": [
    "# Histogrammes globaux pour chaque variable numérique\n",
    "par(mfrow = c(2, 2))  # Affiche 4 graphiques (2 lignes x 2 colonnes)\n",
    "\n",
    "hist(iris$Petal.Length, breaks = 10, col = \"lightblue\", main = \"Petal.Length\")\n",
    "hist(iris$Sepal.Length, breaks = 10, col = \"lightcoral\", main = \"Sepal.Length\")\n",
    "hist(iris$Sepal.Width,  breaks = 10, col = \"lightgreen\", main = \"Sepal.Width\")\n",
    "hist(iris$Petal.Width,  breaks = 10, col = \"lightgoldenrod\", main = \"Petal.Width\")\n",
    "\n",
    "par(mfrow = c(1, 1))  # Réinitialise l'affichage graphique\n"
   ]
  },
  {
   "cell_type": "code",
   "execution_count": 30,
   "id": "80238e71",
   "metadata": {},
   "outputs": [
    {
     "data": {
      "image/png": "[encoded data removed]",
      "text/plain": [
       "plot without title"
      ]
     },
     "metadata": {
      "image/png": {
       "height": 420,
       "width": 420
      }
     },
     "output_type": "display_data"
    }
   ],
   "source": [
    "# Histogrammes empilés par espèce pour chaque variable \n",
    "iris %>%\n",
    "  pivot_longer(cols = -Species, names_to = \"Variable\", values_to = \"Value\") %>%\n",
    "  ggplot(aes(x = Value, fill = Species)) +\n",
    "  geom_histogram(position = \"identity\", alpha = 0.6, bins = 30) +\n",
    "  facet_wrap(~ Variable, scales = \"free\") +\n",
    "  theme_minimal()"
   ]
  },
  {
   "cell_type": "markdown",
   "id": "9fa7c062-f326-467d-8c92-b49e7dafe91f",
   "metadata": {},
   "source": [
    "### Comparaison des histogrammes globaux et empilés\n",
    "\n",
    "#### Histogrammes globaux :\n",
    " ➤ Ils montrent la **répartition générale** de chaque variable pour l'ensemble du jeu de données.  \n",
    " ➤ Petal.Length a une distribution clairement multimodale, suggérant plusieurs groupes.  \n",
    " ➤ Sepal.Length est plus symétrique, mais légèrement étalé.  \n",
    " ➤ Petal.Width a une grande concentration autour de faibles valeurs (≤ 0.5), signe d'une espèce très différente.  \n",
    " ➤ Sepal.Width est plus centré autour de 3.0, sans pic extrême.  \n",
    "\n",
    " Limite : ces graphiques **ne montrent pas les différences entre espèces**, car les données sont toutes mélangées.  \n",
    "\n",
    "\n",
    "\n",
    "#### Histogrammes empilés par espèce:\n",
    " ➤ Ils permettent de visualiser la **répartition des valeurs pour chaque variable, selon l’espèce** :  \n",
    "    - `Setosa` (rose) → très regroupée et souvent isolée  \n",
    "    - `Versicolor` (vert) → distributions modérées  \n",
    "    - `Virginica` (bleu) → valeurs plus étalées vers le haut  \n",
    "\n",
    " ➤ Petal.Length et Petal.Width :  \n",
    "    - Très forte séparation des espèces  \n",
    "    - Aucune superposition entre Setosa et les deux autres → **très discriminantes**  \n",
    "\n",
    " ➤ Sepal.Length :  \n",
    "    - Les distributions de Versicolor et Virginica se chevauchent  \n",
    "    - Setosa est plus concentrée dans les petites longueurs  \n",
    "\n",
    " ➤ Sepal.Width :  \n",
    "    - Moins discriminante, car les 3 espèces présentent des valeurs qui se recoupent  \n",
    "\n",
    "\n",
    "\n",
    "### Conclusion  \n",
    "\n",
    " ➤ Les histogrammes globaux sont utiles pour une **vue d’ensemble** de la distribution,\n",
    "     mais **ne permettent pas de distinguer les espèces**.  \n",
    "\n",
    " ➤ Les histogrammes empilés par espèce révèlent que :  \n",
    "      `Petal.Length` et `Petal.Width` sont **parfaitement adaptées à la classification**.  \n",
    "      `Sepal.Length` et surtout `Sepal.Width` sont **moins discriminantes**.  \n",
    "      \n",
    "Ces observations renforcent les conclusions déjà faites sur la **pertinence des variables des pétales**  \n",
    "\n"
   ]
  },
  {
   "cell_type": "code",
   "execution_count": 14,
   "id": "0d6f6aa8",
   "metadata": {},
   "outputs": [
    {
     "data": {
      "image/png": "[encoded data removed]",
      "text/plain": [
       "Plot with title \"Longueur des sépales selon l'espèce\""
      ]
     },
     "metadata": {
      "image/png": {
       "height": 420,
       "width": 420
      }
     },
     "output_type": "display_data"
    },
    {
     "data": {
      "image/png": "[encoded data removed]",
      "text/plain": [
       "Plot with title \"Longueur des pétales selon l'espèce\""
      ]
     },
     "metadata": {
      "image/png": {
       "height": 420,
       "width": 420
      }
     },
     "output_type": "display_data"
    }
   ],
   "source": [
    "# Boxplot\n",
    "boxplot(Sepal.Length ~ Species, data = iris,\n",
    "        main = \"Longueur des sépales selon l'espèce\")\n",
    "boxplot(Petal.Length ~ Species, data = iris,\n",
    "        main = \"Longueur des pétales selon l'espèce\")"
   ]
  },
  {
   "cell_type": "code",
   "execution_count": 15,
   "id": "4717d307",
   "metadata": {},
   "outputs": [
    {
     "data": {
      "image/png": "[encoded data removed]",
      "text/plain": [
       "plot without title"
      ]
     },
     "metadata": {
      "image/png": {
       "height": 420,
       "width": 420
      }
     },
     "output_type": "display_data"
    }
   ],
   "source": [
    "# Boxplots\n",
    "iris %>%\n",
    "  pivot_longer(cols = -Species, names_to = \"Variable\", values_to = \"Value\") %>%\n",
    "  ggplot(aes(x = Species, y = Value, fill = Species)) +\n",
    "  geom_boxplot() +\n",
    "  facet_wrap(~ Variable, scales = \"free\") +\n",
    "  theme_minimal()"
   ]
  },
  {
   "cell_type": "markdown",
   "id": "df8cf17d-3658-43da-823a-f524a32a0a79",
   "metadata": {},
   "source": [
    "#### Interprétation des boxplots \n",
    "\n",
    " Boxplots simples  \n",
    "\n",
    " ➤ Sepal.Length :  \n",
    "     - Moyenne croissante : setosa < versicolor < virginica  \n",
    "     - Mais recouvrement important entre versicolor et virginica  \n",
    "     - Quelques valeurs atypiques (outliers) observées  \n",
    "\n",
    " ➤ Petal.Length :  \n",
    "     - Setosa a des longueurs très faibles et très concentrées (~1.4 cm).  \n",
    "     - Virginica : les plus longues (~5.5 à 6.9 cm).  \n",
    "     - Versicolor : au milieu.   \n",
    "     - Très peu de recouvrement  (variable très discriminante  ).    \n",
    "\n",
    "\n",
    " Boxplots groupés pour les 4 variables  \n",
    "\n",
    " ➤ Petal.Width :  \n",
    "     - Séparation parfaite entre les espèces, surtout Setosa vs les autres  \n",
    "     - Virginica domine largement en largeur de pétales  \n",
    "\n",
    " ➤ Sepal.Width :  \n",
    "     - Grande variabilité dans chaque groupe, recouvrement entre espèces  \n",
    "     - Variable **moins discriminante**  \n",
    "\n",
    " ➤ Globalement :  \n",
    "     - `Petal.Length` et `Petal.Width` montrent une séparation nette entre les 3 espèces  \n",
    "     - `Sepal.Length` est modérément discriminant  \n",
    "     - `Sepal.Width` est le moins utile pour différencier les espèces  \n",
    "\n",
    "\n",
    "#### Conclusion  \n",
    "\n",
    " ➤ Les boxplots confirment :  \n",
    "      `Petal.Length` et `Petal.Width` sont des variables **fortement discriminantes**.  \n",
    "      `Sepal.Width` apporte peu d’information discriminante.  \n",
    " ➤ Ces visualisations renforcent l'idée que les dimensions des **pétales** sont  \n",
    "     les plus pertinentes pour une classification.  \n"
   ]
  },
  {
   "cell_type": "markdown",
   "id": "a9dd314e-e33d-4080-ad15-ee576737a9a8",
   "metadata": {},
   "source": [
    "## Introduction de la variable ratio entre pétal.length/petal.width"
   ]
  },
  {
   "cell_type": "code",
   "execution_count": 16,
   "id": "0d6a1377-91ff-4f81-9f9b-8527653f0213",
   "metadata": {},
   "outputs": [
    {
     "data": {
      "text/html": [
       "<table class=\"dataframe\">\n",
       "<caption>A data.frame: 6 × 6</caption>\n",
       "<thead>\n",
       "\t<tr><th></th><th scope=col>Sepal.Length</th><th scope=col>Sepal.Width</th><th scope=col>Petal.Length</th><th scope=col>Petal.Width</th><th scope=col>Species</th><th scope=col>Ratio</th></tr>\n",
       "\t<tr><th></th><th scope=col>&lt;dbl&gt;</th><th scope=col>&lt;dbl&gt;</th><th scope=col>&lt;dbl&gt;</th><th scope=col>&lt;dbl&gt;</th><th scope=col>&lt;fct&gt;</th><th scope=col>&lt;dbl&gt;</th></tr>\n",
       "</thead>\n",
       "<tbody>\n",
       "\t<tr><th scope=row>1</th><td>5.1</td><td>3.5</td><td>1.4</td><td>0.2</td><td>setosa</td><td>7.00</td></tr>\n",
       "\t<tr><th scope=row>2</th><td>4.9</td><td>3.0</td><td>1.4</td><td>0.2</td><td>setosa</td><td>7.00</td></tr>\n",
       "\t<tr><th scope=row>3</th><td>4.7</td><td>3.2</td><td>1.3</td><td>0.2</td><td>setosa</td><td>6.50</td></tr>\n",
       "\t<tr><th scope=row>4</th><td>4.6</td><td>3.1</td><td>1.5</td><td>0.2</td><td>setosa</td><td>7.50</td></tr>\n",
       "\t<tr><th scope=row>5</th><td>5.0</td><td>3.6</td><td>1.4</td><td>0.2</td><td>setosa</td><td>7.00</td></tr>\n",
       "\t<tr><th scope=row>6</th><td>5.4</td><td>3.9</td><td>1.7</td><td>0.4</td><td>setosa</td><td>4.25</td></tr>\n",
       "</tbody>\n",
       "</table>\n"
      ],
      "text/latex": [
       "A data.frame: 6 × 6\n",
       "\\begin{tabular}{r|llllll}\n",
       "  & Sepal.Length & Sepal.Width & Petal.Length & Petal.Width & Species & Ratio\\\\\n",
       "  & <dbl> & <dbl> & <dbl> & <dbl> & <fct> & <dbl>\\\\\n",
       "\\hline\n",
       "\t1 & 5.1 & 3.5 & 1.4 & 0.2 & setosa & 7.00\\\\\n",
       "\t2 & 4.9 & 3.0 & 1.4 & 0.2 & setosa & 7.00\\\\\n",
       "\t3 & 4.7 & 3.2 & 1.3 & 0.2 & setosa & 6.50\\\\\n",
       "\t4 & 4.6 & 3.1 & 1.5 & 0.2 & setosa & 7.50\\\\\n",
       "\t5 & 5.0 & 3.6 & 1.4 & 0.2 & setosa & 7.00\\\\\n",
       "\t6 & 5.4 & 3.9 & 1.7 & 0.4 & setosa & 4.25\\\\\n",
       "\\end{tabular}\n"
      ],
      "text/markdown": [
       "\n",
       "A data.frame: 6 × 6\n",
       "\n",
       "| <!--/--> | Sepal.Length &lt;dbl&gt; | Sepal.Width &lt;dbl&gt; | Petal.Length &lt;dbl&gt; | Petal.Width &lt;dbl&gt; | Species &lt;fct&gt; | Ratio &lt;dbl&gt; |\n",
       "|---|---|---|---|---|---|---|\n",
       "| 1 | 5.1 | 3.5 | 1.4 | 0.2 | setosa | 7.00 |\n",
       "| 2 | 4.9 | 3.0 | 1.4 | 0.2 | setosa | 7.00 |\n",
       "| 3 | 4.7 | 3.2 | 1.3 | 0.2 | setosa | 6.50 |\n",
       "| 4 | 4.6 | 3.1 | 1.5 | 0.2 | setosa | 7.50 |\n",
       "| 5 | 5.0 | 3.6 | 1.4 | 0.2 | setosa | 7.00 |\n",
       "| 6 | 5.4 | 3.9 | 1.7 | 0.4 | setosa | 4.25 |\n",
       "\n"
      ],
      "text/plain": [
       "  Sepal.Length Sepal.Width Petal.Length Petal.Width Species Ratio\n",
       "1 5.1          3.5         1.4          0.2         setosa  7.00 \n",
       "2 4.9          3.0         1.4          0.2         setosa  7.00 \n",
       "3 4.7          3.2         1.3          0.2         setosa  6.50 \n",
       "4 4.6          3.1         1.5          0.2         setosa  7.50 \n",
       "5 5.0          3.6         1.4          0.2         setosa  7.00 \n",
       "6 5.4          3.9         1.7          0.4         setosa  4.25 "
      ]
     },
     "metadata": {},
     "output_type": "display_data"
    },
    {
     "data": {
      "text/html": [
       "<table class=\"dataframe\">\n",
       "<caption>A data.frame: 3 × 2</caption>\n",
       "<thead>\n",
       "\t<tr><th scope=col>Species</th><th scope=col>Ratio</th></tr>\n",
       "\t<tr><th scope=col>&lt;fct&gt;</th><th scope=col>&lt;dbl[,6]&gt;</th></tr>\n",
       "</thead>\n",
       "<tbody>\n",
       "\t<tr><td>setosa    </td><td>2.666667, 4.687500, 7.000000, 6.908000, 7.500000, 15.0</td></tr>\n",
       "\t<tr><td>versicolor</td><td>2.666667, 3.016667, 3.240385, 3.242837, 3.417582,  4.1</td></tr>\n",
       "\t<tr><td>virginica </td><td>2.125000, 2.511364, 2.666667, 2.780662, 3.055556,  4.0</td></tr>\n",
       "</tbody>\n",
       "</table>\n"
      ],
      "text/latex": [
       "A data.frame: 3 × 2\n",
       "\\begin{tabular}{ll}\n",
       " Species & Ratio\\\\\n",
       " <fct> & <dbl{[},6{]}>\\\\\n",
       "\\hline\n",
       "\t setosa     & 2.666667, 4.687500, 7.000000, 6.908000, 7.500000, 15.0\\\\\n",
       "\t versicolor & 2.666667, 3.016667, 3.240385, 3.242837, 3.417582,  4.1\\\\\n",
       "\t virginica  & 2.125000, 2.511364, 2.666667, 2.780662, 3.055556,  4.0\\\\\n",
       "\\end{tabular}\n"
      ],
      "text/markdown": [
       "\n",
       "A data.frame: 3 × 2\n",
       "\n",
       "| Species &lt;fct&gt; | Ratio &lt;dbl[,6]&gt; |\n",
       "|---|---|\n",
       "| setosa     | 2.666667, 4.687500, 7.000000, 6.908000, 7.500000, 15.0 |\n",
       "| versicolor | 2.666667, 3.016667, 3.240385, 3.242837, 3.417582,  4.1 |\n",
       "| virginica  | 2.125000, 2.511364, 2.666667, 2.780662, 3.055556,  4.0 |\n",
       "\n"
      ],
      "text/plain": [
       "  Species    Ratio                                                 \n",
       "1 setosa     2.666667, 4.687500, 7.000000, 6.908000, 7.500000, 15.0\n",
       "2 versicolor 2.666667, 3.016667, 3.240385, 3.242837, 3.417582,  4.1\n",
       "3 virginica  2.125000, 2.511364, 2.666667, 2.780662, 3.055556,  4.0"
      ]
     },
     "metadata": {},
     "output_type": "display_data"
    },
    {
     "data": {
      "image/png": "[encoded data removed]",
      "text/plain": [
       "Plot with title \"Ratio Petal.Length / Petal.Width selon l'espèce\""
      ]
     },
     "metadata": {
      "image/png": {
       "height": 420,
       "width": 420
      }
     },
     "output_type": "display_data"
    }
   ],
   "source": [
    "# Créer une nouvelle variable : ratio Petal.Length / Petal.Width\n",
    "iris$Ratio <- iris$Petal.Length / iris$Petal.Width\n",
    "head(iris)\n",
    "#  distribution du ratio par espèce\n",
    "boxplot(Ratio ~ Species, data = iris,\n",
    "        main = \"Ratio Petal.Length / Petal.Width selon l'espèce\")\n",
    "# statistiques du ratio\n",
    "\n",
    "aggregate(Ratio ~ Species, data = iris, summary)\n"
   ]
  },
  {
   "cell_type": "markdown",
   "id": "00211507-c7b1-4702-9563-562f25117b54",
   "metadata": {},
   "source": [
    "### Interprétation du ratio Petal.Length / Petal.Width par espèce\n",
    "\n",
    " ➤ Setosa :\n",
    "     - Ratio très élevé (souvent entre 6 et 8, jusqu’à 15 pour des cas extrêmes)\n",
    "     - Très faible largeur de pétales combinée à une longueur non négligeable\n",
    "     - Distribution concentrée et bien distincte → indicateur fort\n",
    "\n",
    " ➤ Versicolor :\n",
    "     - Ratio centré autour de 3.2\n",
    "     - Variabilité modérée\n",
    "     - Légère superposition avec Virginica mais distinct de Setosa\n",
    "\n",
    " ➤ Virginica :\n",
    "     - Ratio légèrement inférieur à Versicolor (~2.8 à 4)\n",
    "     - Distribution légèrement plus étalée\n",
    "\n",
    "\n",
    "####  Conclusion\n",
    "\n",
    " Le ratio `Petal.Length / Petal.Width` est un excellent indicateur pour identifier l’espèce :\n",
    "  - Il permet une **séparation très nette entre Setosa** et les deux autres\n",
    "  - Il améliore la lisibilité des différences de proportion pétale long / large\n",
    "  - Ce ratio peut être utilisé comme **variable dérivée (feature engineering)** dans un modèle de classification\n",
    "\n"
   ]
  },
  {
   "cell_type": "markdown",
   "id": "e07d7068",
   "metadata": {},
   "source": [
    "## Étape 4 : Synthèse et Rapport"
   ]
  },
  {
   "cell_type": "markdown",
   "id": "067b9b67-a322-46ea-8cce-6437fe515d35",
   "metadata": {},
   "source": [
    "### Comment identifier les valeurs aberrantes dans le dataset ?\n",
    "Les boxplots réalisés pour chaque variable (Sepal.Length, Sepal.Width, Petal.Length, Petal.Width) permettent de visualiser les valeurs aberrantes :\n",
    "\n",
    "Quelques outliers isolés ont été repérés, notamment :\n",
    "\n",
    "Pour Sepal.Length chez Virginica\n",
    "\n",
    "Pour Petal.Length chez Setosa (valeur extrême ≈ 1.0)\n",
    "\n",
    "Le ratio Petal.Length / Petal.Width a révélé des extrêmes élevés (jusqu'à 15) dans Setosa, confirmés visuellement dans son boxplot.\n",
    "\n",
    " Conclusion : Les boxplots et le calcul de statistiques comme les min/max ou les quantiles permettent d’identifier efficacement les outliers.\n",
    "\n",
    "### Quelles sont les relations entre les variables ?\n",
    " La matrice de corrélation met en évidence des liens forts :\n",
    "\n",
    "Petal.Length ↔ Petal.Width : corrélation très forte (r = 0.96)\n",
    "\n",
    "Sepal.Length est modérément corrélé à Petal.Length et Petal.Width\n",
    "\n",
    "Sepal.Width est faiblement ou négativement corrélée aux autres variables\n",
    "\n",
    " Les scatter plots confirment :\n",
    "\n",
    "Des liens linéaires marqués entre Petal.Length et Petal.Width\n",
    "\n",
    "Une séparation naturelle des espèces dans l’espace des pétales\n",
    "\n",
    "Des recouvrements plus importants pour les sépales\n",
    "\n",
    "#### Conclusion :  \n",
    "Les pétales (longueur et largeur) montrent des relations linéaires fortes et une meilleure capacité de discrimination entre espèces.\n",
    "\n",
    "### Peut-on prédire l’espèce d’une fleur à partir de ses mesures ?\n",
    "Les analyses visuelles (scatter plots, boxplots, histogrammes empilés) montrent une séparation quasi parfaite entre les espèces selon :\n",
    "\n",
    "Petal.Length et Petal.Width (très discriminants)\n",
    "\n",
    "Le ratio Petal.Length / Petal.Width, nouvel indicateur puissant\n",
    "\n",
    "Les variables des sépales (notamment Sepal.Width) sont moins informatives pour différencier versicolor et virginica.\n",
    "\n",
    "L’utilisation conjointe des bonnes variables (et du ratio) pourrait permettre d'entraîner un modèle supervisé performant (classification).\n",
    "\n",
    " #### Conclusion :  \n",
    " Oui, les espèces peuvent être prédites avec précision en utilisant les variables des pétales, en particulier Petal.Length, Petal.Width et leur ratio."
   ]
  },
  {
   "cell_type": "markdown",
   "id": "b539c41f",
   "metadata": {},
   "source": [
    "## Pour aller plus loin: proposition de classification des especes:"
   ]
  },
  {
   "cell_type": "code",
   "execution_count": 17,
   "id": "0a3208da-df72-4e32-b47c-474af1511b44",
   "metadata": {},
   "outputs": [
    {
     "name": "stdout",
     "output_type": "stream",
     "text": [
      "--- Histogrammes de Petal.Width par espèce ---\n",
      "\n"
     ]
    },
    {
     "data": {
      "image/png": "[encoded data removed]",
      "text/plain": [
       "plot without title"
      ]
     },
     "metadata": {
      "image/png": {
       "height": 420,
       "width": 420
      }
     },
     "output_type": "display_data"
    }
   ],
   "source": [
    "cat(\"--- Histogrammes de Petal.Width par espèce ---\\n\\n\")\n",
    "\n",
    "\n",
    "# Filtrer uniquement Petal.Width \n",
    "iris_long <- iris %>%\n",
    "  pivot_longer(cols = -Species, names_to = \"Variable\", values_to = \"Value\") %>%\n",
    "  filter(Variable == \"Petal.Width\")\n",
    "\n",
    "# Calcul des bins basé sur l'étendue réelle des données\n",
    "bin_width <- (max(iris_long$Value) - min(iris_long$Value))/25\n",
    "\n",
    "# Graphique\n",
    "iris_long %>%\n",
    "  ggplot(aes(x = Value, fill = Species)) +\n",
    "  # Histogramme\n",
    "  geom_histogram(\n",
    "    binwidth = bin_width,\n",
    "    alpha = 0.7,\n",
    "    position = \"identity\",\n",
    "    color = \"white\",\n",
    "    boundary = 0\n",
    "  ) +\n",
    "  \n",
    "  # Seuils analytiques\n",
    "  geom_vline(\n",
    "    xintercept = c(0.6, 1.0, 1.4, 1.8),\n",
    "    linetype = \"dashed\",\n",
    "    color = \"red\",\n",
    "    linewidth = 0.8\n",
    "  ) +\n",
    "  \n",
    "  # Zones critiques\n",
    "  annotate(\"rect\", \n",
    "           xmin = -Inf, xmax = 0.6, \n",
    "           ymin = 0, ymax = Inf,\n",
    "           alpha = 0.1, fill = \"#1b9e77\") +\n",
    "  annotate(\"rect\", \n",
    "           xmin = 1.4, xmax = 1.8, \n",
    "           ymin = 0, ymax = Inf,\n",
    "           alpha = 0.2, fill = \"gold\") +\n",
    "  \n",
    "  # Annotations\n",
    "  annotate(\"text\", \n",
    "           x = 0.3, y = Inf, \n",
    "           label = \"SETOSA\\n(≤ 0.6 cm)\", \n",
    "           color = \"#1b9e77\",\n",
    "           fontface = \"bold\",\n",
    "           vjust = 2) +\n",
    "  annotate(\"text\", \n",
    "           x = 1.6, y = Inf, \n",
    "           label = \"Chevauchement\\n1.4-1.8 cm\", \n",
    "           color = \"darkorange\",\n",
    "           fontface = \"bold\",\n",
    "           vjust = 2) +\n",
    "  \n",
    "  # Couleurs des espèces\n",
    "  scale_fill_manual(values = c(\n",
    "    \"setosa\" = \"#1b9e77\", \n",
    "    \"versicolor\" = \"#d95f02\", \n",
    "    \"virginica\" = \"#7570b3\"\n",
    "  )) +\n",
    "  \n",
    "  # Titres\n",
    "  labs(\n",
    "    title = \"Distribution de Petal.Width par espèce\",\n",
    "    subtitle = \"Avec seuils analytiques appliqués\",\n",
    "    x = \"Largeur du pétale (cm)\",\n",
    "    y = \"Nombre d'observations\",\n",
    "  ) +\n",
    "  \n",
    "  theme_minimal(base_size = 13) +\n",
    "  theme(\n",
    "    legend.position = \"top\",\n",
    "    plot.title = element_text(face = \"bold\", hjust = 0.5),\n",
    "    plot.subtitle = element_text(hjust = 0.5)\n",
    "  )"
   ]
  },
  {
   "cell_type": "markdown",
   "id": "1313f11b-c0ce-4324-b88d-53ffc714b201",
   "metadata": {},
   "source": [
    "## Analyse du chevauchement selon la variable `Petal.Width`\n",
    "\n",
    "### Résumé des seuils observés\n",
    "\n",
    "| Espèce       | Petal.Width minimum | Petal.Width maximum |\n",
    "|--------------|---------------------|---------------------|\n",
    "| Setosa       | 0.1 cm              | 0.6 cm              |\n",
    "| Versicolor   | 1.0 cm              | 1.8 cm              |\n",
    "| Virginica    | 1.4 cm              | 2.5 cm              |\n",
    "\n",
    "### Interprétation\n",
    "\n",
    "- Il n'existe aucun chevauchement entre *Setosa* et les deux autres espèces sur `Petal.Width`. La valeur maximale pour Setosa (0.6 cm) est bien inférieure à la valeur minimale observée pour Versicolor (1.0 cm).\n",
    "- Un chevauchement partiel est observé entre *Versicolor* et *Virginica*, dans l’intervalle 1.4 cm – 1.8 cm. Cet intervalle constitue une zone d’ambiguïté dans la classification entre ces deux espèces.\n"
   ]
  },
  {
   "cell_type": "markdown",
   "id": "dbe4ae90-9a8c-409b-819c-79253e4929f5",
   "metadata": {},
   "source": [
    "### Nettoyage du dataset iris et passage au dataset iris_clean"
   ]
  },
  {
   "cell_type": "code",
   "execution_count": 18,
   "id": "7cc19fbc-a78c-443c-b6aa-fb4233810412",
   "metadata": {},
   "outputs": [],
   "source": [
    "# Suppression de toutes les outliers\n",
    "iris_clean <- iris %>%\n",
    "  slice(-c(23, 24, 42, 44, 99, 107))"
   ]
  },
  {
   "cell_type": "code",
   "execution_count": 19,
   "id": "260bf8b8-1990-42b4-89aa-a55c792bb98f",
   "metadata": {},
   "outputs": [
    {
     "name": "stdout",
     "output_type": "stream",
     "text": [
      "=== Nombre de spécimens dans la zone de chevauchement ==="
     ]
    },
    {
     "data": {
      "text/plain": [
       "\n",
       "    setosa versicolor  virginica \n",
       "         0         22         49 "
      ]
     },
     "metadata": {},
     "output_type": "display_data"
    },
    {
     "name": "stdout",
     "output_type": "stream",
     "text": [
      "\n",
      "=== RÈGLES SIMPLIFIÉES ===\n",
      "• Petal.Width ≤ 0.6 → SETOSA (certain)\n",
      "• 1.0 ≤ Petal.Width < 1.4 → VERSICOLOR (certain)\n",
      "• Petal.Width ≥ 1.4 → VERSICOLOR ou VIRGINICA (zone d’ambiguïté)\n"
     ]
    }
   ],
   "source": [
    "# Extraire les fleurs dans la zone de chevauchement (Petal.Width ≥ 1.4)\n",
    "chevauchement <- iris_clean[iris_clean$Petal.Width >= 1.4, ]\n",
    "\n",
    "# Afficher un résumé simple des espèces dans la zone de chevauchement\n",
    "# Nombres de spécimens dans la zone de chevauchement\n",
    "cat(\"=== Nombre de spécimens dans la zone de chevauchement ===\")\n",
    "table(chevauchement$Species)\n",
    "\n",
    "# Règles simples basées uniquement sur Petal.Width\n",
    "cat(\"\\n=== RÈGLES SIMPLIFIÉES ===\\n\")\n",
    "cat(\"• Petal.Width ≤ 0.6 → SETOSA (certain)\\n\")\n",
    "cat(\"• 1.0 ≤ Petal.Width < 1.4 → VERSICOLOR (certain)\\n\")\n",
    "cat(\"• Petal.Width ≥ 1.4 → VERSICOLOR ou VIRGINICA (zone d’ambiguïté)\\n\")\n"
   ]
  },
  {
   "cell_type": "markdown",
   "id": "064c9c0c-b5a5-4885-ad0b-47960bc1c115",
   "metadata": {},
   "source": [
    "## Affinage des critères discréminants"
   ]
  },
  {
   "cell_type": "code",
   "execution_count": 20,
   "id": "a794d8f1-259e-45bc-b357-398bc9ed0ca8",
   "metadata": {},
   "outputs": [
    {
     "name": "stdout",
     "output_type": "stream",
     "text": [
      "   Sepal.Length Sepal.Width Petal.Length Petal.Width    Species    Ratio\n",
      "1           7.0         3.2          4.7         1.4 versicolor 3.357143\n",
      "2           6.4         3.2          4.5         1.5 versicolor 3.000000\n",
      "3           6.9         3.1          4.9         1.5 versicolor 3.266667\n",
      "4           5.5         2.3          4.0         1.3 versicolor 3.076923\n",
      "5           6.5         2.8          4.6         1.5 versicolor 3.066667\n",
      "6           5.7         2.8          4.5         1.3 versicolor 3.461538\n",
      "7           6.3         3.3          4.7         1.6 versicolor 2.937500\n",
      "8           4.9         2.4          3.3         1.0 versicolor 3.300000\n",
      "9           6.6         2.9          4.6         1.3 versicolor 3.538462\n",
      "10          5.2         2.7          3.9         1.4 versicolor 2.785714\n",
      "11          5.0         2.0          3.5         1.0 versicolor 3.500000\n",
      "12          5.9         3.0          4.2         1.5 versicolor 2.800000\n",
      "13          6.0         2.2          4.0         1.0 versicolor 4.000000\n",
      "14          6.1         2.9          4.7         1.4 versicolor 3.357143\n",
      "15          5.6         2.9          3.6         1.3 versicolor 2.769231\n",
      "16          6.7         3.1          4.4         1.4 versicolor 3.142857\n",
      "17          5.6         3.0          4.5         1.5 versicolor 3.000000\n",
      "18          5.8         2.7          4.1         1.0 versicolor 4.100000\n",
      "19          6.2         2.2          4.5         1.5 versicolor 3.000000\n",
      "20          5.6         2.5          3.9         1.1 versicolor 3.545455\n",
      "21          6.1         2.8          4.0         1.3 versicolor 3.076923\n",
      "22          6.3         2.5          4.9         1.5 versicolor 3.266667\n",
      "23          6.1         2.8          4.7         1.2 versicolor 3.916667\n",
      "24          6.4         2.9          4.3         1.3 versicolor 3.307692\n",
      "25          6.6         3.0          4.4         1.4 versicolor 3.142857\n",
      "26          6.8         2.8          4.8         1.4 versicolor 3.428571\n",
      "27          6.0         2.9          4.5         1.5 versicolor 3.000000\n",
      "28          5.7         2.6          3.5         1.0 versicolor 3.500000\n",
      "29          5.5         2.4          3.8         1.1 versicolor 3.454545\n",
      "30          5.5         2.4          3.7         1.0 versicolor 3.700000\n",
      "31          5.8         2.7          3.9         1.2 versicolor 3.250000\n",
      "32          5.4         3.0          4.5         1.5 versicolor 3.000000\n",
      "33          6.0         3.4          4.5         1.6 versicolor 2.812500\n",
      "34          6.7         3.1          4.7         1.5 versicolor 3.133333\n",
      "35          6.3         2.3          4.4         1.3 versicolor 3.384615\n",
      "36          5.6         3.0          4.1         1.3 versicolor 3.153846\n",
      "37          5.5         2.5          4.0         1.3 versicolor 3.076923\n",
      "38          5.5         2.6          4.4         1.2 versicolor 3.666667\n",
      "39          6.1         3.0          4.6         1.4 versicolor 3.285714\n",
      "40          5.8         2.6          4.0         1.2 versicolor 3.333333\n",
      "41          5.0         2.3          3.3         1.0 versicolor 3.300000\n",
      "42          5.6         2.7          4.2         1.3 versicolor 3.230769\n",
      "43          5.7         3.0          4.2         1.2 versicolor 3.500000\n",
      "44          5.7         2.9          4.2         1.3 versicolor 3.230769\n",
      "45          6.2         2.9          4.3         1.3 versicolor 3.307692\n",
      "46          5.7         2.8          4.1         1.3 versicolor 3.153846\n"
     ]
    }
   ],
   "source": [
    "iris_ambiguous <- iris_clean %>%\n",
    "  filter(Petal.Width < 1.8, Petal.Width> 0.6, Petal.Length< 5 )\n",
    "\n",
    "# Affichage du sous-ensemble ambigu\n",
    "print(iris_ambiguous)\n"
   ]
  },
  {
   "cell_type": "markdown",
   "id": "ebf9763f-3d9c-4abc-b0f4-1be53ba02b17",
   "metadata": {},
   "source": [
    "En se basant sur nos analyses et en acceptant d'exclure 3 entrées Versicolor (-6%), un iris est un versicolor:\n",
    "- Si Petal.Width supérieur à 0,6, et inférieur à 1,8\n",
    "- Et si Petal.Length est inferieur à 5"
   ]
  },
  {
   "cell_type": "code",
   "execution_count": null,
   "id": "a821f56e-beb8-490a-acdf-5ba7f5bd0e4b",
   "metadata": {},
   "outputs": [],
   "source": []
  }
 ],
 "metadata": {
  "kernelspec": {
   "display_name": "R",
   "language": "R",
   "name": "ir"
  },
  "language_info": {
   "codemirror_mode": "r",
   "file_extension": ".r",
   "mimetype": "text/x-r-source",
   "name": "R",
   "pygments_lexer": "r",
   "version": "4.5.0"
  }
 },
 "nbformat": 4,
 "nbformat_minor": 5
}
